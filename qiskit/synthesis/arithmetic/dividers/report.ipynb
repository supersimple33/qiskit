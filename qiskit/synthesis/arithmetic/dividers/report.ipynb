{
 "cells": [
  {
   "cell_type": "markdown",
   "metadata": {},
   "source": [
    "# CMSC 657 Final Project\n",
    "## Scalibility and performance between differing implementations of the quantum division algorithm\n",
    "### Addison Hanrattie"
   ]
  },
  {
   "cell_type": "markdown",
   "metadata": {},
   "source": [
    "At the heart of computer science and nearly any problem one could approach is logic and arithmetic. Much effort has been put into ensuring that these algorithms are as efficient as they can be. Classically this has led to the creation of everything from the carry look-ahead adder circuit to new forms of math for cryptography schemes and advances in GPU and TPU technologies for solving as many problems per second as one can. The quantum frontier presents a new challenge as not only must one keep in mind all the ideas and lessons of classical numerical analysis but also keep in mind and deal with all the problems that arise from quantum information processing. \n",
    "\n",
    "While the “weirdness” of quantum mechanics can be a challenge to deal with its unique properties can permit new algorithms which would not be feasible otherwise. The most well-known arithmetic algorithm here is likely the draper adder [1]. This algorithm leverages the quantum fourier transform to reduce the number of qubits required to perform an addition between two numbers. Furthermore, it allows for adding classical constants to a number for no cost at all. This algorithm was a gr improvement over the previously used classically inspired ripple carry adder (better quantum ripple carry adders have since been developed [2]). There is now a large number of quantum algorithms available for doing different forms of arithmetic and which range in the specific type of niche they serve. These niches vary quite widely including those which focus on execution speed, specific hardware gate sets, robustness to errors, and reductions in required ancillas. \n",
    "\n",
    "Qiskit is a very popular quantum programming language which can generate code that can both be simulated or run on an actual quantum computer. Contained within the package in a library of common arithmetic functions however no implementations exist for performing integer division. Therefore for my project I will focus on implementing this algorithm via the library and ideally merging my code into the actual library. Arithmetic operations while not the most celebrated part of quantum computing are essential for building end to end quantum applications which chain together different algorithms to create ever more complex ones capable of carrying out nuanced calculations. Therefore I estimate there will be a large benefit to implementing these algorithms so that other developers can use them.\n",
    "\n",
    "[1] https://arxiv.org/pdf/quant-ph/0008033\n",
    "\n",
    "[2] https://arxiv.org/abs/quant-ph/0410184"
   ]
  },
  {
   "cell_type": "markdown",
   "metadata": {},
   "source": [
    "## Thapliyal Algorithm\n",
    "\n",
    "In their 2018 paper \"Quantum Circuit Designs of Integer Division Optimizing T-count and T-depth\" Thapliyal et al describe a optimized version of the quantum integer divider for two positive n bit twos complement integers. They implement their design under the hood using the restoring division algorithm which for the adders uses a quantum ripple carry adder. Below I have written code which verifies that for every possible input of a N=5 division the algorithm is correct. "
   ]
  },
  {
   "cell_type": "code",
   "execution_count": null,
   "metadata": {},
   "outputs": [],
   "source": []
  },
  {
   "cell_type": "code",
   "execution_count": null,
   "metadata": {},
   "outputs": [],
   "source": [
    "for i in range(2**4):\n",
    "    for j in range(2**4):\n",
    "        if j == 0:\n",
    "            continue\n",
    "        state = Statevector.from_label(\n",
    "            f'0000' + f'{j:04b}' + f'{i:04b}'\n",
    "        )\n",
    "        state = state.evolve(div_circuit)\n",
    "        remainder = state.probabilities([0,1,2,3]).argmax()\n",
    "        quotient = state.probabilities([8,9,10,11]).argmax()\n",
    "        if i % j != remainder or i // j != quotient:\n",
    "            print(f'Error: {i:04b} % {j:04b} = {i} % {j}')"
   ]
  }
 ],
 "metadata": {
  "kernelspec": {
   "display_name": "Python 3",
   "language": "python",
   "name": "python3"
  },
  "language_info": {
   "codemirror_mode": {
    "name": "ipython",
    "version": 3
   },
   "file_extension": ".py",
   "mimetype": "text/x-python",
   "name": "python",
   "nbconvert_exporter": "python",
   "pygments_lexer": "ipython3",
   "version": "3.12.7"
  }
 },
 "nbformat": 4,
 "nbformat_minor": 2
}
